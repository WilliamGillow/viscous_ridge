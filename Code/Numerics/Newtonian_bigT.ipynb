{
 "cells": [
  {
   "cell_type": "markdown",
   "id": "945b5aa4-0f50-4175-b9dd-f2ec55ce59a4",
   "metadata": {},
   "source": [
    "# Numerical Solution for the Newtonian Model at Late Times"
   ]
  },
  {
   "cell_type": "markdown",
   "id": "77f1a93a-57b0-45da-83ef-7ee6061a1b41",
   "metadata": {},
   "source": [
    "## Import the Necessary Libraries and Define Functions"
   ]
  },
  {
   "cell_type": "code",
   "execution_count": 1,
   "id": "c3d70493-475e-4c48-8578-aea8aa0ac2c2",
   "metadata": {},
   "outputs": [],
   "source": [
    "# Import the necessary libraries.\n",
    "import numpy as np\n",
    "import matplotlib.pyplot as plt\n",
    "from scipy.integrate import odeint\n",
    "from scipy.special import erf\n",
    "from scipy.special import erfc\n",
    "\n",
    "# Use LaTeX font for plots.\n",
    "plt.rcParams['text.usetex'] = True"
   ]
  },
  {
   "cell_type": "code",
   "execution_count": 2,
   "id": "92af0a24-e58f-441d-a7c0-3db8904b37af",
   "metadata": {},
   "outputs": [],
   "source": [
    "# Define the system of ODEs.\n",
    "def semidiscODEs(h,t, N,dx):\n",
    "    \n",
    "    # Compute h_0 using the boundary condition.\n",
    "    if t==0:\n",
    "        h0 = 1\n",
    "    else:\n",
    "        # Solve the cubic for h0, which contains h1 and h2.\n",
    "        # used https://en.wikipedia.org/wiki/Cubic_equation#General_cubic_formula\n",
    "        \n",
    "        # Order 2?\n",
    "        a  = -3\n",
    "        b  = -2*h[0] - h[1]\n",
    "        c  = 5*h[0]**2 - 2*h[0]*h[1]\n",
    "        d  = 4*h[0]**3 - h[1]*(h[0]**2) + 8*dx\n",
    "        D0 = b**2 - 3*a*c\n",
    "        D1 = 2*b**3 - 9*a*b*c +27*d*(a**2)\n",
    "        C  = np.cbrt((D1+np.sqrt(D1**2 - 4*D0**3))/2)\n",
    "        h0 = -(b + C + D0/C)/(3*a)\n",
    "     \n",
    "    # Give h_N.\n",
    "    hN = 1\n",
    "    \n",
    "    # Write vectors of h, one with h_0, one with h_N.\n",
    "    hl = np.concatenate((np.array([h0]),h))\n",
    "    hu = np.concatenate((h,np.array([hN])))\n",
    "    \n",
    "    # Compute the respective fluxes.\n",
    "    q = (((hu+hl)/2)**3)*(hu-hl)/dx + (hu+hl)/2\n",
    "    \n",
    "    # Compute dh_i/dt for each i\n",
    "    dh = (q[1:]-q[:-1])/dx\n",
    "    \n",
    "    return dh"
   ]
  },
  {
   "cell_type": "code",
   "execution_count": 3,
   "id": "7bb4f93e-5104-475c-bcb8-054caa2f7dea",
   "metadata": {},
   "outputs": [],
   "source": [
    "# Find the value of h_0 given the end result.\n",
    "def h0(h,t, dx):\n",
    "    # Solve the cubic for h0, which contains h1 and h2.\n",
    "    # used https://en.wikipedia.org/wiki/Cubic_equation#General_cubic_formula\n",
    "    \n",
    "    # Order 1?\n",
    "    #D0 = 4*h[:,0]**2\n",
    "    #D1 = 16*h[:,0]**3+108*dx\n",
    "    #C  = np.cbrt((-D1+np.sqrt(D1**2-4*D0**3))/2)\n",
    "    #h0 = -(h[:,0] + C + D0/C)/3\n",
    "    \n",
    "    # Order 2?\n",
    "    a  = -3\n",
    "    b  = -2*h[:,0] - h[:,1]\n",
    "    c  = 5*h[:,0]**2 - 2*h[:,0]*h[:,1]\n",
    "    d  = 4*h[:,0]**3 - h[:,1]*(h[:,0]**2) + 8*dx\n",
    "    D0 = b**2 - 3*a*c\n",
    "    D1 = 2*b**3 - 9*a*b*c + 27*d*(a**2)\n",
    "    C  = np.cbrt((D1+np.sqrt(D1**2 - 4*D0**3))/2)\n",
    "    h0 = -(b + C + D0/C)/(3*a)\n",
    "    \n",
    "    h0[0] = 1\n",
    "    \n",
    "    return np.array([h0]).T"
   ]
  },
  {
   "cell_type": "code",
   "execution_count": 4,
   "id": "534cb8e0-5dce-4085-858d-c9953e29cb57",
   "metadata": {
    "tags": []
   },
   "outputs": [],
   "source": [
    "# Function for the analytical height of the interface at late time.\n",
    "def h(x,t):\n",
    "    # Set up arrays for h and xi.\n",
    "    h = np.zeros(t.shape)\n",
    "    xf = np.zeros(t.shape)\n",
    "    \n",
    "    # Find the indices where t=0 so we can ignore these to avoid division by 0.\n",
    "    mask = (t!=0)\n",
    "    xf[mask] = np.sqrt(8)*(t[mask]**(3/4))/3\n",
    "    \n",
    "    # Compute h when t is non-zero.\n",
    "    h[mask] = np.maximum(np.sqrt(2)*(t[mask]**(1/4))*(np.cbrt(1-x[mask]/xf[mask])) , np.zeros(t.shape)[mask])\n",
    "    \n",
    "    return h"
   ]
  },
  {
   "cell_type": "code",
   "execution_count": 5,
   "id": "9b52fd85-1eaf-4f68-b75d-fe197d316a6d",
   "metadata": {
    "tags": []
   },
   "outputs": [],
   "source": [
    "# Function that computes the L2 error in the solution at each time.\n",
    "def L2error(num, an, N):\n",
    "    d = (an-num)**2\n",
    "    c = np.sqrt(np.sum(d, axis=1)/(N+1))\n",
    "    return c"
   ]
  },
  {
   "cell_type": "code",
   "execution_count": 6,
   "id": "c2f3c911-4d79-4b7c-8af5-c236e6af1543",
   "metadata": {
    "tags": []
   },
   "outputs": [],
   "source": [
    "# Function that computes the experimental order of convergence.\n",
    "def EOCs(N,err):\n",
    "    EOCs = np.zeros(len(err)-1)\n",
    "    for i in range(len(EOCs)):\n",
    "        EOCs[i] = np.log(err[i+1]/err[i])/np.log(N[i]/N[i+1])\n",
    "    return EOCs"
   ]
  },
  {
   "cell_type": "markdown",
   "id": "8d0948fe-1bea-4016-a093-f72fcf35c57c",
   "metadata": {},
   "source": [
    "## Define the Necessary Parameters"
   ]
  },
  {
   "cell_type": "code",
   "execution_count": 7,
   "id": "f1b5933a-4736-4285-a2a6-611465ab4285",
   "metadata": {},
   "outputs": [],
   "source": [
    "# Define the parameters of the system, the time array, and the space grid.\n",
    "N = 2**9\n",
    "XN = 300\n",
    "dx = XN/N\n",
    "t = np.arange(0,1001,1) # change to step size of 10?\n",
    "y_init0 = np.zeros(N-1)\n",
    "y_init1 = np.ones(N-1)\n",
    "x = np.linspace(0,XN,N+1)\n",
    "\n",
    "#Set up a meshgrid of x and t for the analytical solution.\n",
    "x2, t2 = np.meshgrid(x, t)"
   ]
  },
  {
   "cell_type": "markdown",
   "id": "23878d5e-e875-48ca-9088-fe2eaadf3111",
   "metadata": {},
   "source": [
    "## Solve the IVP"
   ]
  },
  {
   "cell_type": "code",
   "execution_count": 8,
   "id": "b92bb484-f1b7-4bdc-a10e-00b1e206d814",
   "metadata": {},
   "outputs": [],
   "source": [
    "# Solve the IVP. # Uses faster version\n",
    "y = odeint(semidiscODEs, y_init1, t, args=(N,dx))\n",
    "\n",
    "# Use the boundary value to find the value at x_N\n",
    "yN = np.array([np.ones(len(t))]).T\n",
    "\n",
    "# Glue x_0, x_N parts to the rest of the solution.\n",
    "y_num = np.concatenate((h0(y,t2,dx),y,yN), axis=1)"
   ]
  },
  {
   "cell_type": "markdown",
   "id": "79038b47-a01b-4714-86ee-1a37e5547398",
   "metadata": {},
   "source": [
    "## Compute the Analytical Solution and Plot the Interface Heights"
   ]
  },
  {
   "cell_type": "code",
   "execution_count": 9,
   "id": "d99ebac7-ee0a-4cbd-a39d-f2d592ff3df9",
   "metadata": {
    "tags": []
   },
   "outputs": [],
   "source": [
    "# Compute the analytic solution.\n",
    "y_an = h(x2, t2)"
   ]
  },
  {
   "cell_type": "code",
   "execution_count": 10,
   "id": "369347c7-e5ff-42dd-9803-888466c13bc9",
   "metadata": {},
   "outputs": [
    {
     "data": {
      "image/png": "[encoded data removed]",
      "text/plain": [
       "<Figure size 432x216 with 1 Axes>"
      ]
     },
     "metadata": {
      "needs_background": "light"
     },
     "output_type": "display_data"
    }
   ],
   "source": [
    "# Pick some time points to plot.\n",
    "t_arr = np.array([200, 400, 600, 800, 1000])\n",
    "\n",
    "# Set up the plot.\n",
    "fig = plt.figure(figsize=(6,3))\n",
    "ax = fig.add_subplot(111)\n",
    "cols = ['tab:blue', 'tab:orange', 'tab:green', 'tab:red', 'magenta']\n",
    "\n",
    "# Plot for a few different times.\n",
    "for i in range(len(t_arr)):\n",
    "    # Find the index for the specified time\n",
    "    t_index = int(np.round(t_arr[i]/1))\n",
    "    \n",
    "    # Do the plotting.\n",
    "    ax.plot(x, y_num[t_index,:], '--' , marker='+', markevery=10, linewidth=1, color=cols[i])\n",
    "    ax.plot(x, y_an[t_index,:], ':', marker='x', markevery=(5,10), linewidth=1, color=cols[i])\n",
    "    ax.plot([0,1],[10,10], color=cols[i], linewidth=1, label=r'$t=s1$'.replace('s1',str(t_arr[i])))\n",
    "\n",
    "    \n",
    "#Add details to the plot.\n",
    "ticks1 = np.arange(0,260,10)\n",
    "ax.set_xticks(ticks1, labels=np.round(ticks1,1))\n",
    "ax.set_xlim(0,250)\n",
    "ax.set_xlabel('x')\n",
    "#ax.xaxis.set_label_coords(1.01, -0.04)\n",
    "xticks = ax.xaxis.get_major_ticks()\n",
    "for i in range(len(ticks1)):\n",
    "    xticks[i].label1.set_visible((i+1)%2)\n",
    "\n",
    "ticks2 = np.arange(0,10,1)\n",
    "ax.set_yticks(ticks2)\n",
    "ax.set_ylim(0,9)\n",
    "ax.set_ylabel('h')\n",
    "#ax.yaxis.set_label_coords(-0.02, 0.95)\n",
    "yticks = ax.yaxis.get_major_ticks()\n",
    "for i in range(len(ticks2)):\n",
    "    yticks[i].label1.set_visible((i+1)%2)\n",
    "    \n",
    "ax.spines['top'].set_visible(False)\n",
    "ax.spines['right'].set_visible(False)\n",
    "ax.spines['bottom'].set_visible(True)\n",
    "ax.spines['left'].set_visible(True)\n",
    "\n",
    "ax.legend()\n",
    "#plt.savefig('Newt_BigT_NumAn2', bbox_inches='tight', dpi=500)\n",
    "plt.show()"
   ]
  },
  {
   "cell_type": "code",
   "execution_count": 11,
   "id": "fb90877e-db78-40fe-bb8b-61e3b4e97d7b",
   "metadata": {},
   "outputs": [
    {
     "data": {
      "image/png": "[encoded data removed]",
      "text/plain": [
       "<Figure size 288x144 with 1 Axes>"
      ]
     },
     "metadata": {
      "needs_background": "light"
     },
     "output_type": "display_data"
    }
   ],
   "source": [
    "# Pick some time points to plot.\n",
    "t_arr = np.array([200, 400, 600, 800, 1000])\n",
    "\n",
    "# Set up the plot.\n",
    "fig = plt.figure(figsize=(4,2))\n",
    "ax = fig.add_subplot(111)\n",
    "cols = ['tab:blue', 'tab:orange', 'tab:green', 'tab:red', 'magenta']\n",
    "\n",
    "# Find peak height and front point from analytical solution.\n",
    "xf_arr = (np.sqrt(8)/3)*(t_arr)**(3/4)\n",
    "ph_arr = np.sqrt(2)*(t_arr)**(1/4)\n",
    "\n",
    "# Plot the analytical solution\n",
    "ax.plot(x/xf_arr[0], y_an[t_arr[0],:]/ph_arr[0], ':' , linewidth=1, color='black', label=r'analytical')\n",
    "\n",
    "# Plot for a few different times.\n",
    "for i in range(len(t_arr)):\n",
    "    # Find the index for the specified time\n",
    "    t_index = int(np.round(t_arr[i]/1))\n",
    "    \n",
    "    # Do the plotting.\n",
    "    ax.plot(x/xf_arr[i], y_num[t_index,:]/ph_arr[i], '--', linewidth=1, color=cols[i], label=r'$t=s1$'.replace('s1',str(t_arr[i])))\n",
    "\n",
    "    \n",
    "#Add details to the plot.\n",
    "ticks1 = np.arange(0,2.1,0.1)\n",
    "ax.set_xticks(ticks1, labels=np.round(ticks1,1))\n",
    "ax.set_xlim(0,1.5)\n",
    "ax.set_xlabel(r'$x/x_f$')\n",
    "#ax.xaxis.set_label_coords(1.01, -0.04)\n",
    "xticks = ax.xaxis.get_major_ticks()\n",
    "for i in range(len(ticks1)):\n",
    "    xticks[i].label1.set_visible((i+1)%2)\n",
    "\n",
    "ticks2 = np.arange(0,2.2,0.2)\n",
    "ax.set_yticks(ticks2)\n",
    "ax.set_ylim(0,2)\n",
    "ax.set_ylabel(r'$h/h_{max}$')\n",
    "#ax.yaxis.set_label_coords(-0.02, 0.95)\n",
    "yticks = ax.yaxis.get_major_ticks()\n",
    "for i in range(len(ticks2)):\n",
    "    yticks[i].label1.set_visible((i+1)%2)\n",
    "    \n",
    "ax.spines['top'].set_visible(False)\n",
    "ax.spines['right'].set_visible(False)\n",
    "ax.spines['bottom'].set_visible(True)\n",
    "ax.spines['left'].set_visible(True)\n",
    "\n",
    "ax.legend(ncol=2)\n",
    "#plt.savefig('Newt_BigT_NumAn2_scaled', bbox_inches='tight', dpi=500)\n",
    "plt.show()"
   ]
  },
  {
   "cell_type": "markdown",
   "id": "cbb2b3f5-2180-4048-a46f-80dece0e08fb",
   "metadata": {},
   "source": [
    "## Solve the IVP for a larger $N$"
   ]
  },
  {
   "cell_type": "code",
   "execution_count": 12,
   "id": "3eff27c0-2613-42b7-a0e8-5c0bfdf31dab",
   "metadata": {
    "tags": []
   },
   "outputs": [],
   "source": [
    "# Find highest N approximation in reasonable time frame.\n",
    "N3 = 2**11\n",
    "dx3 = XN/N3\n",
    "\n",
    "\n",
    "y_init13 = np.ones(N3-1)\n",
    "t3 = np.arange(0,1001,1)\n",
    "x3 = np.linspace(0,XN,N3+1)\n",
    "\n",
    "#Set up a meshgrid of x and t for the analytical solution.\n",
    "x4, t4 = np.meshgrid(x3, t3)"
   ]
  },
  {
   "cell_type": "code",
   "execution_count": 13,
   "id": "701a399d-ea87-4c8d-a9b9-a54edd2cf709",
   "metadata": {
    "tags": []
   },
   "outputs": [],
   "source": [
    "# Solve the IVP. # Uses faster version\n",
    "y3 = odeint(semidiscODEs, y_init13, t3, args=(N3,dx3))\n",
    "\n",
    "# Use the boundary value to find the value at x_N\n",
    "yN3 = np.array([np.ones(len(t3))]).T\n",
    "\n",
    "# Glue x_0, x_N parts to the rest of the solution.\n",
    "y_num3 = np.concatenate((h0(y3,t4,dx3),y3,yN3), axis=1)"
   ]
  },
  {
   "cell_type": "markdown",
   "id": "48bb6b4a-1b96-4b65-8396-7c5a77679ff7",
   "metadata": {},
   "source": [
    "## Compute the $L_2$ Difference for a Several $N$ and Plot the Interface Height at the Wall"
   ]
  },
  {
   "cell_type": "code",
   "execution_count": 14,
   "id": "8b0bc21f-a379-4ff8-b163-14153a84e48c",
   "metadata": {
    "tags": []
   },
   "outputs": [
    {
     "data": {
      "image/png": "[encoded data removed]",
      "text/plain": [
       "<Figure size 432x216 with 1 Axes>"
      ]
     },
     "metadata": {
      "needs_background": "light"
     },
     "output_type": "display_data"
    }
   ],
   "source": [
    "# Set up plots of height and width of the front.\n",
    "fig = plt.figure(figsize=(6,3))\n",
    "ax1 = fig.add_subplot(111)\n",
    "\n",
    "# Set the threshold for where we say we are at the end of the front.\n",
    "tol = 1.01\n",
    "\n",
    "# Set up arrays of number of points.\n",
    "Nexps = np. arange(5,11,1)\n",
    "N_arr = 2**Nexps\n",
    "\n",
    "# Set up arrays for the error.\n",
    "L2err_arr = np.zeros(len(N_arr))\n",
    "L2err_arr2= np.zeros(len(N_arr))\n",
    "\n",
    "for i in range(len(N_arr)):\n",
    "    # Find the numerical solution for different N.\n",
    "    N = N_arr[i]\n",
    "    dx = XN/N\n",
    "    x = np.linspace(0,XN,N+1)\n",
    "    y_init = np.ones(N-1)\n",
    "    \n",
    "    # Set up a meshgrid of x and t for the analytical solution.\n",
    "    x2, t2 = np.meshgrid(x, t3)\n",
    "    \n",
    "    # Solve the IVP and append x_0, x_N.\n",
    "    y2 = odeint(semidiscODEs, y_init, t3, args=(N,dx))\n",
    "    y_num2 = np.concatenate((h0(y2,t2,dx),y2,yN), axis=1)\n",
    "\n",
    "    # Compute the L2 error.\n",
    "    L2err = L2error(y_num2, y_num3[:,::2**(11-Nexps[i])], N+1)\n",
    "    \n",
    "    # Put the largest L2 error into an array.\n",
    "    L2err_arr[i] = max(L2err)\n",
    "    L2err_arr2[i]= np.sqrt(np.sum(L2err**2)/len(t))\n",
    "    \n",
    "    # Plot the peak height.\n",
    "    ax1.plot(t, y_num2[:,0], '--', linewidth=1, label=r'$N=s1$'.replace('s1',str(N)))\n",
    "\n",
    "\n",
    "# Plot the peak height \n",
    "ax1.plot(t, y_num3[:,0], '--', linewidth=1, color='magenta', label=r'$N=s1$'.replace('s1',str(N3)))\n",
    "\n",
    "# Plot the maximum height and front point for the analytical solution.\n",
    "ax1.plot(t,(np.sqrt(2)*(t**(1/4))), color='black', linewidth=1, label=r'analytical')\n",
    "    \n",
    "# Add details to the plot.\n",
    "ax1.set_xlim(1,1000)\n",
    "ax1.set_xscale('log', base=10)\n",
    "ax1.set_xlabel(r'$t$')\n",
    "\n",
    "    \n",
    "ax1.set_ylim(1,12)\n",
    "ax1.set_yscale('log', base=10)\n",
    "ax1.set_ylabel(r'$h_{max}$')\n",
    "\n",
    "# Place the legend in a nicer location.\n",
    "ax1.legend(bbox_to_anchor=(1.3,0.88))\n",
    "fig.tight_layout()\n",
    "fig.subplots_adjust(right=0.8)\n",
    "\n",
    "# Save the figure.\n",
    "#plt.savefig('Newt_BigT_NumAn_Height', bbox_inches='tight', dpi=500)\n",
    "plt.show()   "
   ]
  },
  {
   "cell_type": "markdown",
   "id": "ca26cb81-4357-4052-8ff4-3e978213bd1b",
   "metadata": {},
   "source": [
    "## Plot the Error Against Step Size"
   ]
  },
  {
   "cell_type": "code",
   "execution_count": 15,
   "id": "78247724-2586-4c78-828b-b3d875fabc90",
   "metadata": {
    "tags": []
   },
   "outputs": [
    {
     "data": {
      "image/png": "[encoded data removed]",
      "text/plain": [
       "<Figure size 144x144 with 1 Axes>"
      ]
     },
     "metadata": {
      "needs_background": "light"
     },
     "output_type": "display_data"
    }
   ],
   "source": [
    "# Compute EOCs for L2 error over x and t.\n",
    "EOC_arr2 = EOCs(N_arr, L2err_arr2)\n",
    "#print(EOC_arr2)\n",
    "\n",
    "# Array to plot a line of gradient 1 to go through the points.\n",
    "q = np.linspace(0,20,100001)\n",
    "\n",
    "# Set up the figure.\n",
    "fig = plt.figure(figsize=(2,2))\n",
    "ax = fig.add_subplot(111)\n",
    "\n",
    "# Plot step size against L2 error over x and t.\n",
    "ax.plot(q,0.1*q, color='tab:orange')\n",
    "ax.scatter(XN/N_arr, L2err_arr2)\n",
    "\n",
    "# Add details to the plot.\n",
    "ax.set_xlim(2**(-2),2**(4))\n",
    "ax.set_xscale('log', base=2)\n",
    "ax.set_xlabel(r'$\\Delta x$')\n",
    "\n",
    "ax.set_ylim(2**(-7),2)\n",
    "ax.set_yscale('log', base=2)\n",
    "ax.set_ylabel(r'$L_2$ Error')\n",
    "\n",
    "#plt.savefig('Newt_BigT_L2error_xt', bbox_inches='tight', dpi=500)\n",
    "plt.show()"
   ]
  }
 ],
 "metadata": {
  "kernelspec": {
   "display_name": "Python 3 (ipykernel)",
   "language": "python",
   "name": "python3"
  },
  "language_info": {
   "codemirror_mode": {
    "name": "ipython",
    "version": 3
   },
   "file_extension": ".py",
   "mimetype": "text/x-python",
   "name": "python",
   "nbconvert_exporter": "python",
   "pygments_lexer": "ipython3",
   "version": "3.8.5"
  }
 },
 "nbformat": 4,
 "nbformat_minor": 5
}
