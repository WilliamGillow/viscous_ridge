{
 "cells": [
  {
   "cell_type": "markdown",
   "id": "67989f3e-7d12-4b85-be69-34181c0c7210",
   "metadata": {
    "tags": []
   },
   "source": [
    "# Numerical Solution for the Bingham Model\n",
    "\n",
    "This is set up for the early time, small Bingham number case."
   ]
  },
  {
   "cell_type": "markdown",
   "id": "da45e58b-7893-4bbc-b0dc-953dfacedc3c",
   "metadata": {},
   "source": [
    "## Import the necessary libraries and define all of the functions."
   ]
  },
  {
   "cell_type": "code",
   "execution_count": 2,
   "id": "c3d70493-475e-4c48-8578-aea8aa0ac2c2",
   "metadata": {},
   "outputs": [],
   "source": [
    "# Import the necessary libraries.\n",
    "import numpy as np\n",
    "import matplotlib.pyplot as plt\n",
    "import scipy.integrate as sp\n",
    "from scipy.special import erf\n",
    "from scipy.special import erfc\n",
    "from scipy.optimize import root\n",
    "from decimal import *\n",
    "\n",
    "# Use LaTeX font for plots.\n",
    "plt.rcParams['text.usetex'] = True"
   ]
  },
  {
   "cell_type": "code",
   "execution_count": 3,
   "id": "97fd8d41-2716-4f46-a22b-d3a3fcdb93e1",
   "metadata": {},
   "outputs": [],
   "source": [
    "# Define the system of ODEs. Technically, q is the negative of the flux. For the ODE method, not ODEint.\n",
    "def semidiscODEs4(t,h, dx,B,eps):\n",
    "    \n",
    "    # Write vectors of h, one with h_0, one with h_N.\n",
    "    hl = np.append(np.array([0]),h) # Just need to have something at the start so the indices are shifted by one. Since we overwrite q[0], it does not matter what it is.\n",
    "    hu = np.append(h,np.array([1])) # last point is set to be 1.\n",
    "    \n",
    "    # Compute the height of the yield surface.\n",
    "    Y = np.maximum(hl - (B*dx)/(3*abs(hu-hl)+eps*dx*np.ones(len(hu))), np.zeros(hu.shape))\n",
    "    #Y = np.maximum((hu+hl)/2 - (B*dx)/(3*abs(hu-hl)+eps*dx*np.ones(len(hu))), np.zeros(hu.shape)) #alternative\n",
    "    \n",
    "    # Do a second pass where we don't use epsilon on those where the derivative is non-zero and large enough (which is when Y>0)\n",
    "    Y[Y>0] = hl[Y>0] - (B*dx)/(3*abs(hu[Y>0]-hl[Y>0]))\n",
    "    \n",
    "    # Compute the respective fluxes.\n",
    "    q = 0.5*(Y**2)*(3*hl-Y)*(hu-hl)/dx + (hu+hl)/2\n",
    "    q[0] = 0 # set flux at the wall to be 0 due to BC. We do this so we don't have to solve an implicit equation at each time step. Newtonian case gave a cubic, which is easier.\n",
    "    \n",
    "    # Compute dh_i/dt for each interior i.\n",
    "    dh = (q[1:]-q[:-1])/dx\n",
    "    \n",
    "    return dh"
   ]
  },
  {
   "cell_type": "code",
   "execution_count": 4,
   "id": "a2b854f5-3396-481d-baee-615a4bb50662",
   "metadata": {
    "tags": []
   },
   "outputs": [],
   "source": [
    "# Define the implicit equation for h0\n",
    "# I tried multiplying though by ((h[:,0]-y)/dx)**2, but this made the tolerance required too small for the root finder.\n",
    "def h0_eqn(y, h,t,dx,B):\n",
    "    # Find the height of the yield surface at x=0.\n",
    "    Y = y + (B*dx)/(3*(h[:,0]-y))\n",
    "    \n",
    "    # Define the implicit equation for h0.\n",
    "    return (h[:,0]+y + (Y**2)*(3*y-Y)*(h[:,0]-y)/dx)"
   ]
  },
  {
   "cell_type": "code",
   "execution_count": 5,
   "id": "c05bc789-aab2-47cf-852a-f9d061b41d1c",
   "metadata": {},
   "outputs": [],
   "source": [
    "# Compute the yield surface from the numerical results. We do two passes, where the first allows us to find the points where we can safely set epsilon equal to 0.\n",
    "def YS(h,t,dx,B,eps):\n",
    "    hl = h[:,:-1]\n",
    "    hu = h[:,1:]\n",
    "    \n",
    "    Y = np.maximum(hl - (B*dx)/(3*abs(hu-hl)+eps*dx*np.ones(hl.shape)), np.zeros(hl.shape))\n",
    "    \n",
    "    Y[Y>0] = hl[Y>0] - (B*dx)/(3*abs(hu[Y>0]-hl[Y>0]))\n",
    "    \n",
    "    return Y"
   ]
  },
  {
   "cell_type": "code",
   "execution_count": 6,
   "id": "d87d179e-c96a-46dc-be27-4c9b05b5c25b",
   "metadata": {
    "tags": []
   },
   "outputs": [],
   "source": [
    "# Function for the analytical height of the interface minus 1 at early time.\n",
    "def z(x,t):\n",
    "    # Set up arrays for z and xi. This also accounts for the initial condition.\n",
    "    z = np.zeros(t.shape)\n",
    "    xi = np.zeros(t.shape)\n",
    "    \n",
    "    # Find the indices where t=0 so we can ignore these to avoid division by 0.\n",
    "    mask = (t!=0)\n",
    "    \n",
    "    # Compute xi where it is defined.\n",
    "    xi[mask] = x[mask]/(2*np.sqrt(t[mask]))\n",
    "    \n",
    "    # Compute z where it is defined\n",
    "    z[mask] = (2*np.sqrt(t[mask]))*(np.exp(-xi[mask]**2)/np.sqrt(np.pi) - xi[mask]*erfc(xi[mask]))\n",
    "    \n",
    "    return z\n",
    "\n",
    "# Define the yield surface height.\n",
    "def Y(x,t):\n",
    "    # Set up arrays for z and xi. This also accounts for the initial condition.\n",
    "    y = np.zeros(t.shape)\n",
    "    xi = np.zeros(t.shape)\n",
    "    Z = z(x,t)\n",
    "    \n",
    "    # Find the indices where t=0 so we can ignore these to avoid division by 0.\n",
    "    mask = (t!=0)\n",
    "    \n",
    "    # Compute xi where it is defined.\n",
    "    xi[mask] = x[mask]/(2*np.sqrt(t[mask]))\n",
    "    print(np.max(xi[mask]))\n",
    "    \n",
    "    y[mask] = 1 + Z[mask] - B/(3*erfc(xi[mask]))\n",
    "    \n",
    "    return y"
   ]
  },
  {
   "cell_type": "code",
   "execution_count": 7,
   "id": "e1af3337-1f72-4d69-ab9a-c68610cf4421",
   "metadata": {
    "tags": []
   },
   "outputs": [],
   "source": [
    "#Define the interface height\n",
    "#Define the function for the height of the interface minus 1.\n",
    "def z2(x,t):\n",
    "    xi = x/(2*np.sqrt(t))\n",
    "    \n",
    "    return (2*np.sqrt(t))*(np.exp(-xi**2)/np.sqrt(np.pi) - xi*erfc(xi))\n",
    "\n",
    "    \n",
    "#Define the yield surface height.\n",
    "def Y2(x,t):\n",
    "    xi = x/(2*np.sqrt(t))\n",
    "    \n",
    "    erfcxi = erfc(xi)\n",
    "    erfcxi[erfcxi==0] = np.nan # prevent division by zero\n",
    "    \n",
    "    return 1 + z2(x,t) - B/(3*erfcxi)"
   ]
  },
  {
   "cell_type": "code",
   "execution_count": 8,
   "id": "9b52fd85-1eaf-4f68-b75d-fe197d316a6d",
   "metadata": {
    "tags": []
   },
   "outputs": [],
   "source": [
    "# Function that computes the L2 error in the solution at each time.\n",
    "def L2error(num, an, N):\n",
    "    d = (an-num)**2\n",
    "    c = np.sqrt(np.sum(d, axis=1)/(N+1))\n",
    "    return c"
   ]
  },
  {
   "cell_type": "code",
   "execution_count": 9,
   "id": "c2f3c911-4d79-4b7c-8af5-c236e6af1543",
   "metadata": {
    "tags": []
   },
   "outputs": [],
   "source": [
    "# Function that computes the experimental order of convergence.\n",
    "def EOCs(N,err):\n",
    "    EOCs = np.zeros(len(err)-1)\n",
    "    for i in range(len(EOCs)):\n",
    "        EOCs[i] = np.log(err[i+1]/err[i])/np.log(N[i]/N[i+1])\n",
    "    return EOCs"
   ]
  },
  {
   "cell_type": "markdown",
   "id": "507bdb03-75ee-47f3-8390-644bdd1bce97",
   "metadata": {},
   "source": [
    "## Choose the Relevant Parameters"
   ]
  },
  {
   "cell_type": "code",
   "execution_count": 10,
   "id": "f1b5933a-4736-4285-a2a6-611465ab4285",
   "metadata": {},
   "outputs": [],
   "source": [
    "# Define the parameters of the system, the time array, and the space grid.\n",
    "N = 2**10\n",
    "XN = 2\n",
    "dx = XN/N\n",
    "y_init0 = np.zeros(N-1)\n",
    "y_init1 = np.ones(N-1)\n",
    "x = np.linspace(0,XN,N+1)\n",
    "\n",
    "# Choose the time interval and step.\n",
    "t_start = 0\n",
    "t_step = 0.0001\n",
    "t_end = 0.03\n",
    "t = np.arange(t_start,t_end+t_step,t_step)\n",
    "\n",
    "B = 0.001\n",
    "eps = 10**(-7) # B=0.001 needs eps at most 10^(-3) \n",
    "\n",
    "# Set up a meshgrid of x and t for the analytical solution.\n",
    "x2, t2 = np.meshgrid(x, t)"
   ]
  },
  {
   "cell_type": "markdown",
   "id": "a74dd389-b4a8-43b4-bc6c-a9e94abf5839",
   "metadata": {},
   "source": [
    "## Solve the IVP"
   ]
  },
  {
   "cell_type": "code",
   "execution_count": 11,
   "id": "c3de31ee-7743-4edc-82e8-14680c0f34a9",
   "metadata": {},
   "outputs": [],
   "source": [
    "# Solve the IVP.\n",
    "r = sp.ode(semidiscODEs4).set_integrator('vode', method='bdf', nsteps=20000) # nsteps may need to be increased if B or t_step is.\n",
    "\n",
    "r.set_f_params(dx,B,eps)\n",
    "r.set_initial_value(y_init1, t_start)\n",
    "\n",
    "ts = np.array([0])\n",
    "ys = np.array([y_init1])\n",
    "\n",
    "while r.successful() and r.t < t_end-0.5*t_step:\n",
    "    r.integrate(r.t + t_step)\n",
    "    ts = np.append(ts,np.array([r.t]))\n",
    "    ys = np.concatenate((ys,np.array([r.y])))"
   ]
  },
  {
   "cell_type": "code",
   "execution_count": 12,
   "id": "ddeb50dd-310c-46a3-ae45-c1c5a2d3d991",
   "metadata": {},
   "outputs": [
    {
     "name": "stdout",
     "output_type": "stream",
     "text": [
      "(301, 1023)\n",
      "0.029999999999999874\n"
     ]
    }
   ],
   "source": [
    "# Check that it got to the end time.\n",
    "print(ys.shape)\n",
    "print(ts[-1])"
   ]
  },
  {
   "cell_type": "code",
   "execution_count": 13,
   "id": "bb683b1b-5585-46b2-b6f9-e1c7eee8b691",
   "metadata": {},
   "outputs": [],
   "source": [
    "# Use the boundary value to find the value at x_N\n",
    "yN = np.array([np.ones(len(t))]).T\n",
    "\n",
    "# Solve the implicit equation for x_0.\n",
    "sols = root(h0_eqn, ys[:,0]+B*dx/3, args=(ys,t,dx,B))\n",
    "\n",
    "sol = sols.x\n",
    "\n",
    "# Fix the initial condition and make the shape of y0 correct for concatenation.\n",
    "sol[0] = 1 \n",
    "y0 = np.array([sol]).T"
   ]
  },
  {
   "cell_type": "code",
   "execution_count": 14,
   "id": "e0f27aaa-0033-44c5-9866-75ab7a10de5d",
   "metadata": {},
   "outputs": [
    {
     "name": "stdout",
     "output_type": "stream",
     "text": [
      "The solution converged.\n"
     ]
    }
   ],
   "source": [
    "# Check that the root finder converged. If not, we do not want to append y0.\n",
    "print(sols.message)"
   ]
  },
  {
   "cell_type": "code",
   "execution_count": 15,
   "id": "021e7d9f-9471-422c-bf38-6f4285121c94",
   "metadata": {
    "tags": []
   },
   "outputs": [],
   "source": [
    "# Glue x_0, x_N parts to the rest of the solution.\n",
    "y_num2 = np.concatenate((y0,ys,yN), axis=1) # this one if the above converged.\n",
    "# y_num2 = np.concatenate((ys,yN), axis=1) # this one if not. In this case, for plotting, x needs to be changed to x[1,] in \"ax.plot(x, y_num2[t_index,:], ...\" lines."
   ]
  },
  {
   "cell_type": "markdown",
   "id": "88c97b05-c277-44ef-a942-ec0a047ef523",
   "metadata": {},
   "source": [
    "## Plot the Results and Compare with Asymptotics"
   ]
  },
  {
   "cell_type": "code",
   "execution_count": 16,
   "id": "1af12ac4-83ff-47f7-8a26-e729736121e9",
   "metadata": {},
   "outputs": [],
   "source": [
    "# Compute the analytic solution.\n",
    "y_an = np.ones(x2.shape) + z(x2, t2)"
   ]
  },
  {
   "cell_type": "code",
   "execution_count": 17,
   "id": "369347c7-e5ff-42dd-9803-888466c13bc9",
   "metadata": {},
   "outputs": [
    {
     "data": {
      "image/png": "[encoded data removed]",
      "text/plain": [
       "<Figure size 432x108 with 1 Axes>"
      ]
     },
     "metadata": {
      "needs_background": "light"
     },
     "output_type": "display_data"
    }
   ],
   "source": [
    "# Pick some time points to plot.\n",
    "t_arr = np.array([0.0005, 0.005, 0.01, 0.025]) # may need to change this if you change the time interval\n",
    "\n",
    "# Set up the plot.\n",
    "fig = plt.figure(figsize=(6,1.5))\n",
    "ax = fig.add_subplot(111)\n",
    "cols = ['tab:blue', 'tab:orange', 'tab:green', 'tab:red']\n",
    "\n",
    "# Plot for a few different times.\n",
    "for i in range(len(t_arr)):\n",
    "    # Find the index for the specified time\n",
    "    t_index = int(np.round(t_arr[i]/t_step))\n",
    "    \n",
    "    # Do the plotting.\n",
    "    ax.plot(x, y_num2[t_index,:], '--' , marker='+', markevery=32, linewidth=1, color=cols[i])\n",
    "    ax.plot(x, y_an[t_index,:], ':', marker='x', markevery=(16,32), linewidth=1, color=cols[i])\n",
    "    ax.plot([0,1],[10,10], color=cols[i], linewidth=1, label=r'$t=s1$'.replace('s1',str(t_arr[i])))\n",
    "\n",
    "    \n",
    "# Add details to the plot.\n",
    "ticks1 = np.arange(0,0.75,0.05)\n",
    "ax.set_xticks(ticks1, labels=np.round(ticks1,1))\n",
    "ax.set_xlim(0,0.7)\n",
    "ax.set_xlabel(r'$x$')\n",
    "xticks = ax.xaxis.get_major_ticks()\n",
    "for i in range(len(ticks1)):\n",
    "    xticks[i].label1.set_visible((i+1)%2)\n",
    "\n",
    "ticks2 = np.arange(1,1.22,0.02)\n",
    "ax.set_yticks(ticks2)\n",
    "ax.set_ylim(1,1.2)\n",
    "ax.set_ylabel(r'$h$')\n",
    "yticks = ax.yaxis.get_major_ticks()\n",
    "for i in range(len(ticks2)):\n",
    "    yticks[i].label1.set_visible((i+1)%2)\n",
    "\n",
    "ax.spines['top'].set_visible(False)\n",
    "ax.spines['right'].set_visible(False)\n",
    "ax.spines['bottom'].set_visible(True)\n",
    "ax.spines['left'].set_visible(True)\n",
    "\n",
    "ax.legend()\n",
    "#plt.savefig('Bingham_SmallT_NumAn2', bbox_inches='tight', dpi=500)\n",
    "plt.show()"
   ]
  },
  {
   "cell_type": "code",
   "execution_count": 18,
   "id": "dc1ad5a0-cc56-487d-bbc2-70da5f06234f",
   "metadata": {},
   "outputs": [],
   "source": [
    "# Check mass conservation of the two solutions.\n",
    "area_num = dx*np.sum(y_num2, axis=1)-0.5*dx*(y_num2[:,0]+y_num2[:,-1])\n",
    "#print((area_num-XN)/t)\n",
    "\n",
    "area_an = dx*np.sum(y_an, axis=1)-0.5*dx*(y_an[:,0]+y_an[:,-1])\n",
    "#print((area_an-XN)/t)"
   ]
  },
  {
   "cell_type": "markdown",
   "id": "5cb15ad9-006d-4d22-b017-ea137d231f96",
   "metadata": {},
   "source": [
    "## Plot Gradients"
   ]
  },
  {
   "cell_type": "code",
   "execution_count": 19,
   "id": "3c998cfe-1689-446c-80ef-2bf3a14f6e59",
   "metadata": {
    "tags": []
   },
   "outputs": [
    {
     "data": {
      "image/png": "[encoded data removed]",
      "text/plain": [
       "<Figure size 432x144 with 1 Axes>"
      ]
     },
     "metadata": {
      "needs_background": "light"
     },
     "output_type": "display_data"
    }
   ],
   "source": [
    "# Pick some time points to plot.\n",
    "t_arr = np.array([0.0005, 0.005, 0.01, 0.025])\n",
    "\n",
    "# Set up the plot.\n",
    "fig = plt.figure(figsize=(6,2))\n",
    "ax = fig.add_subplot(111)\n",
    "cols = ['tab:blue', 'tab:orange', 'tab:green', 'tab:red']\n",
    "\n",
    "# Plot for a few different times.\n",
    "for i in range(len(t_arr)):\n",
    "    # Find the index for the specified time\n",
    "    t_index = int(np.round(t_arr[i]/t_step))\n",
    "    \n",
    "    # Find/approximate gradients.\n",
    "    dz_num2 = np.gradient(y_num2[t_index,:], dx, edge_order=2)\n",
    "    dz_an = -erfc(x/(2*np.sqrt(t_arr[i])))\n",
    "    \n",
    "    # Do the plotting.\n",
    "    ax.plot(x, dz_num2, '--' , marker='+', markevery=10, linewidth=1, color=cols[i])\n",
    "    ax.plot(x, dz_an, ':', marker='x', markevery=(5,10), linewidth=1, color=cols[i])\n",
    "    ax.plot([0,1],[10,10], color=cols[i], linewidth=1, label=r'$t=s1$'.replace('s1',str(t_arr[i])))\n",
    "\n",
    "    \n",
    "# Add details to the plot.\n",
    "ticks1 = np.arange(0,0.75,0.05)\n",
    "ax.set_xticks(ticks1, labels=np.round(ticks1,1))\n",
    "ax.set_xlim(0,0.7)\n",
    "ax.set_xlabel('x')\n",
    "xticks = ax.xaxis.get_major_ticks()\n",
    "for i in range(len(ticks1)):\n",
    "    xticks[i].label1.set_visible((i+1)%2)\n",
    "\n",
    "ticks2 = np.arange(-1.1,0.2,0.1)\n",
    "ax.set_yticks(ticks2)\n",
    "ax.set_ylim(-1.1,0.1)\n",
    "ax.set_ylabel(r'$\\partial h/ \\partial x$')\n",
    "yticks = ax.yaxis.get_major_ticks()\n",
    "for i in range(len(ticks2)):\n",
    "    yticks[i].label1.set_visible((i+1)%2)\n",
    "\n",
    "ax.spines['top'].set_visible(False)\n",
    "ax.spines['right'].set_visible(False)\n",
    "ax.spines['bottom'].set_visible(True)\n",
    "ax.spines['left'].set_visible(True)\n",
    "\n",
    "ax.legend()\n",
    "#plt.savefig('Bingham_SmallT_NumAn2_gradients', bbox_inches='tight', dpi=500)\n",
    "plt.show()"
   ]
  },
  {
   "cell_type": "markdown",
   "id": "48322123-c6ca-475f-94ef-5027b7bfc8f4",
   "metadata": {},
   "source": [
    "## Compute and Plot the Yield Surface"
   ]
  },
  {
   "cell_type": "code",
   "execution_count": 20,
   "id": "d97e3aa4-c5c4-4d45-8e9e-1591e6b14c81",
   "metadata": {},
   "outputs": [],
   "source": [
    "# Determine the height of the yield surface numerically.\n",
    "YS_num = np.concatenate((YS(y_num2,t2,dx,B,eps),np.array([np.zeros(y_num2[:,0].shape)]).T), axis=1)"
   ]
  },
  {
   "cell_type": "code",
   "execution_count": 21,
   "id": "e1657bf0-bb13-4026-9228-b57d1d39be8b",
   "metadata": {},
   "outputs": [
    {
     "data": {
      "image/png": "[encoded data removed]",
      "text/plain": [
       "<Figure size 432x108 with 1 Axes>"
      ]
     },
     "metadata": {
      "needs_background": "light"
     },
     "output_type": "display_data"
    }
   ],
   "source": [
    "# Pick some time points to plot.\n",
    "t_arr = np.array([0.0005, 0.005, 0.01, 0.025])\n",
    "x3 = np.linspace(0,2,8*N+1)\n",
    "\n",
    "# Set up the plot.\n",
    "fig = plt.figure(figsize=(6,1.5))\n",
    "ax = fig.add_subplot(111)\n",
    "cols = ['tab:blue', 'tab:orange', 'tab:green', 'tab:red']\n",
    "\n",
    "# Plot for a few different times.\n",
    "for i in range(len(t_arr)):\n",
    "    # Find the index for the specified time\n",
    "    t_index = int(np.round(t_arr[i]/t_step)) # round to avoid floating point errors.\n",
    "    \n",
    "    # Find the analytical yield surface. for small B.\n",
    "    y2 = Y2(x3,t_arr[i])\n",
    "    y2[y2<0]=0\n",
    "    \n",
    "    # Do the plotting.\n",
    "    ax.plot(x, YS_num[t_index,:], '--' , marker='+', markevery=16, linewidth=1, color=cols[i])\n",
    "    ax.plot(x3, y2, ':', marker='x', markevery=(64,128), linewidth=1, color=cols[i])\n",
    "    ax.plot([0,1],[10,10], color=cols[i], linewidth=1, label=r'$t=s1$'.replace('s1',str(t_arr[i])))\n",
    "\n",
    "    \n",
    "# Add details to the plot.\n",
    "ticks1 = np.arange(0,0.75,0.05)\n",
    "ax.set_xticks(ticks1, labels=np.round(ticks1,1))\n",
    "ax.set_xlim(0,0.7)\n",
    "ax.set_xlabel(r'$x$')\n",
    "xticks = ax.xaxis.get_major_ticks()\n",
    "for i in range(len(ticks1)):\n",
    "    xticks[i].label1.set_visible((i+1)%2)\n",
    "\n",
    "ticks2 = np.arange(0.96,1.22,0.02)\n",
    "ax.set_yticks(ticks2)\n",
    "ax.set_ylim(0.96,1.2)\n",
    "ax.set_ylabel(r'$Y$')\n",
    "yticks = ax.yaxis.get_major_ticks()\n",
    "for i in range(len(ticks2)):\n",
    "    yticks[i].label1.set_visible((i+1)%2)\n",
    "\n",
    "ax.spines['top'].set_visible(False)\n",
    "ax.spines['right'].set_visible(False)\n",
    "ax.spines['bottom'].set_visible(True)\n",
    "ax.spines['left'].set_visible(True)\n",
    "\n",
    "ax.legend()\n",
    "#plt.savefig('Bingham_SmallT_YS_NumAn2', bbox_inches='tight', dpi=500)\n",
    "plt.show()"
   ]
  },
  {
   "cell_type": "markdown",
   "id": "8a11b8cc-10fd-496e-8699-f1c9ab07a791",
   "metadata": {},
   "source": [
    "## Plot the Interface and Yield Surface Together"
   ]
  },
  {
   "cell_type": "code",
   "execution_count": 22,
   "id": "b7dad431-bb52-4616-b1e0-853dec89521f",
   "metadata": {},
   "outputs": [
    {
     "data": {
      "image/png": "[encoded data removed]",
      "text/plain": [
       "<Figure size 432x144 with 1 Axes>"
      ]
     },
     "metadata": {
      "needs_background": "light"
     },
     "output_type": "display_data"
    }
   ],
   "source": [
    "# Pick some time points to plot.\n",
    "t_arr = np.array([0.0005, 0.005, 0.01, 0.025])\n",
    "x3 = np.linspace(0,2,8*N+1)\n",
    "\n",
    "# Set up the plot.\n",
    "fig = plt.figure(figsize=(6,2))\n",
    "ax = fig.add_subplot(111)\n",
    "cols = ['tab:blue', 'tab:orange', 'tab:green', 'tab:red', 'tab:purple']\n",
    "\n",
    "# Plot for a few different times.\n",
    "for i in range(len(t_arr)):\n",
    "    # Find the index for the specified time\n",
    "    t_index = int(np.round(t_arr[i]/t_step)) # round to avoid floating point errors.\n",
    "    \n",
    "    # Find the analytical yield surface. for small B.\n",
    "    \n",
    "    # Do the plotting.\n",
    "    ax.plot(x, y_num2[t_index,:], '--', linewidth=1, marker='+', markevery=64, color=cols[i])\n",
    "    ax.plot(x, YS_num[t_index,:], ':', linewidth=1, marker='x', markevery=(32,64), color=cols[i])\n",
    "    ax.plot([0,1],[10,10], color=cols[i], linewidth=1, label=r'$t=s1$'.replace('s1',str(t_arr[i])))\n",
    "\n",
    "    \n",
    "# Add details to the plot.\n",
    "ticks1 = np.arange(0,0.75,0.05)\n",
    "ax.set_xticks(ticks1, labels=np.round(ticks1,1))\n",
    "ax.set_xlim(0,0.7)\n",
    "ax.set_xlabel(r'$x$')\n",
    "xticks = ax.xaxis.get_major_ticks()\n",
    "for i in range(len(ticks1)):\n",
    "    xticks[i].label1.set_visible((i+1)%2)\n",
    "\n",
    "ticks2 = np.arange(0.96,1.22,0.02)\n",
    "ax.set_yticks(ticks2)\n",
    "ax.set_ylim(0.96,1.2)\n",
    "yticks = ax.yaxis.get_major_ticks()\n",
    "for i in range(len(ticks2)):\n",
    "    yticks[i].label1.set_visible((i+1)%2)\n",
    "\n",
    "ax.spines['top'].set_visible(False)\n",
    "ax.spines['right'].set_visible(False)\n",
    "ax.spines['bottom'].set_visible(True)\n",
    "ax.spines['left'].set_visible(True)\n",
    "\n",
    "ax.legend()\n",
    "#plt.savefig('Bingham_SmallT_Both_NumAn2', bbox_inches='tight', dpi=500)\n",
    "plt.show()"
   ]
  }
 ],
 "metadata": {
  "kernelspec": {
   "display_name": "Python 3 (ipykernel)",
   "language": "python",
   "name": "python3"
  },
  "language_info": {
   "codemirror_mode": {
    "name": "ipython",
    "version": 3
   },
   "file_extension": ".py",
   "mimetype": "text/x-python",
   "name": "python",
   "nbconvert_exporter": "python",
   "pygments_lexer": "ipython3",
   "version": "3.8.5"
  }
 },
 "nbformat": 4,
 "nbformat_minor": 5
}
