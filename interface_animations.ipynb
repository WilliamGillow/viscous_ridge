{
 "cells": [
  {
   "cell_type": "markdown",
   "id": "8ca31a8b-b9ec-4980-8218-272b0d463e30",
   "metadata": {},
   "source": [
    "# Animations for Interface Shapes"
   ]
  },
  {
   "cell_type": "markdown",
   "id": "f692e97f-b8e9-45bc-8e91-8d54931d9978",
   "metadata": {
    "tags": []
   },
   "source": [
    "### Import Libraries and define functions"
   ]
  },
  {
   "cell_type": "code",
   "execution_count": 1,
   "id": "ce3539e1-1764-489d-a192-146c36ab79e6",
   "metadata": {},
   "outputs": [],
   "source": [
    "#Import the necessary libraries.\n",
    "import numpy as np\n",
    "from numpy import loadtxt\n",
    "from scipy.integrate import odeint\n",
    "from scipy.special import erfc\n",
    "import matplotlib.pyplot as plt\n",
    "import matplotlib.animation as animation\n",
    "\n",
    "# Use LaTeX font for plots.\n",
    "plt.rcParams['text.usetex'] = True"
   ]
  },
  {
   "cell_type": "code",
   "execution_count": 2,
   "id": "f29264c9-f50b-4a58-ad02-56e467b5e623",
   "metadata": {},
   "outputs": [],
   "source": [
    "#Define the function for the height of the interface.\n",
    "def h_an(x,t):\n",
    "    # Check if t is 0\n",
    "    if t==0:\n",
    "        return np.ones(x.shape)\n",
    "    \n",
    "    else:\n",
    "        xi = x/(2*np.sqrt(t))\n",
    "        return np.ones(x.shape)+(2*np.sqrt(t))*(np.exp(-xi**2)/np.sqrt(np.pi) - xi*erfc(xi))"
   ]
  },
  {
   "cell_type": "code",
   "execution_count": 3,
   "id": "945d9cce-3603-438b-b2cd-9f52efed75a5",
   "metadata": {},
   "outputs": [],
   "source": [
    "# Define the system of ODEs.\n",
    "def semidiscODEs2(h,t, N,dx):\n",
    "    \n",
    "    # Compute h_0 using the boundary condition.\n",
    "    if t==0:\n",
    "        h0 = 1\n",
    "    else:\n",
    "        # Solve the cubic for h0, which contains h1 and h2.\n",
    "        # used https://en.wikipedia.org/wiki/Cubic_equation#General_cubic_formula\n",
    "        \n",
    "        # Order 2?\n",
    "        a  = -3\n",
    "        b  = -2*h[0] - h[1]\n",
    "        c  = 5*h[0]**2 - 2*h[0]*h[1]\n",
    "        d  = 4*h[0]**3 - h[1]*(h[0]**2) + 8*dx\n",
    "        D0 = b**2 - 3*a*c\n",
    "        D1 = 2*b**3 - 9*a*b*c +27*d*(a**2)\n",
    "        C  = np.cbrt((D1+np.sqrt(D1**2 - 4*D0**3))/2)\n",
    "        h0 = -(b + C + D0/C)/(3*a)\n",
    "     \n",
    "    # Give h_N.\n",
    "    hN = 1\n",
    "    \n",
    "    # Write vectors of h, one with h_0, one with h_N.\n",
    "    hl = np.concatenate((np.array([h0]),h))\n",
    "    hu = np.concatenate((h,np.array([hN])))\n",
    "    \n",
    "    # Compute the respective fluxes.\n",
    "    q = (((hu+hl)/2)**3)*(hu-hl)/dx + (hu+hl)/2\n",
    "    \n",
    "    # Compute dh_i/dt for each i\n",
    "    dh = (q[1:]-q[:-1])/dx\n",
    "    \n",
    "    return dh"
   ]
  },
  {
   "cell_type": "code",
   "execution_count": 4,
   "id": "028749c0-3a61-43c8-b7af-931cf1c7191c",
   "metadata": {},
   "outputs": [],
   "source": [
    "# Find the value of h_0 given the end result.\n",
    "def h0(h,t, dx):\n",
    "    # Solve the cubic for h0, which contains h1 and h2.\n",
    "    # used https://en.wikipedia.org/wiki/Cubic_equation#General_cubic_formula\n",
    "    \n",
    "    # Order 2?\n",
    "    a  = -3\n",
    "    b  = -2*h[:,0] - h[:,1]\n",
    "    c  = 5*h[:,0]**2 - 2*h[:,0]*h[:,1]\n",
    "    d  = 4*h[:,0]**3 - h[:,1]*(h[:,0]**2) + 8*dx\n",
    "    D0 = b**2 - 3*a*c\n",
    "    D1 = 2*b**3 - 9*a*b*c + 27*d*(a**2)\n",
    "    C  = np.cbrt((D1+np.sqrt(D1**2 - 4*D0**3))/2)\n",
    "    h0 = -(b + C + D0/C)/(3*a)\n",
    "    \n",
    "    h0[0] = 1\n",
    "    \n",
    "    return np.array([h0]).T"
   ]
  },
  {
   "cell_type": "markdown",
   "id": "fa170627-f726-44f8-a0e1-ebaa671df3d5",
   "metadata": {
    "tags": []
   },
   "source": [
    "### Solve Numerically"
   ]
  },
  {
   "cell_type": "code",
   "execution_count": 5,
   "id": "d6b5ed18-11b9-4af2-a633-bf96bebe1cac",
   "metadata": {},
   "outputs": [],
   "source": [
    "# Define the parameters of the system, the time array, and the space grid.\n",
    "N = 2**8\n",
    "XN = 2\n",
    "dx = XN/N\n",
    "t = np.arange(0,0.0401,0.0001)\n",
    "y_init0 = np.zeros(N-1)\n",
    "y_init1 = np.ones(N-1)\n",
    "x = np.linspace(0,XN,N+1)\n",
    "\n",
    "#Set up a meshgrid of x and t for the analytical solution.\n",
    "x2, t2 = np.meshgrid(x, t)"
   ]
  },
  {
   "cell_type": "code",
   "execution_count": 6,
   "id": "859cb041-f589-4b12-83ef-bf0b05e0b4d6",
   "metadata": {},
   "outputs": [],
   "source": [
    "# Solve the IVP. # Uses faster version\n",
    "y2 = odeint(semidiscODEs2, y_init1, t, args=(N,dx))\n",
    "\n",
    "# Use the boundary value to find the value at x_N\n",
    "yN2 = np.array([np.ones(len(t))]).T\n",
    "\n",
    "# Glue x_0, x_N parts to the rest of the solution.\n",
    "y_num2 = np.concatenate((h0(y2,t2,dx),y2,yN2), axis=1)"
   ]
  },
  {
   "cell_type": "markdown",
   "id": "eceb5cc4-8b64-4016-974b-33b69cc2bdb1",
   "metadata": {
    "tags": []
   },
   "source": [
    "### Parameters\n",
    "\n",
    "We need these due to the different nondimensionalisations used so that we can translate from one to another."
   ]
  },
  {
   "cell_type": "code",
   "execution_count": 7,
   "id": "32a93db2-2e96-47bf-85ee-1caf512d7195",
   "metadata": {},
   "outputs": [],
   "source": [
    "# Dimensional Parameters.\n",
    "rho = 1440\n",
    "mu = 10\n",
    "U = 0.01\n",
    "H = 0.03\n",
    "g = 9.81\n",
    "X = (rho*g*H**3)/(3*mu*U)\n",
    "T = X/U\n",
    "\n",
    "# DNS Dimensional Parameters.\n",
    "T2 = H/U"
   ]
  },
  {
   "cell_type": "markdown",
   "id": "1e0d541f-db2e-436a-b857-8a4382b2e432",
   "metadata": {
    "tags": []
   },
   "source": [
    "### Make the animation for each of No Slip and Free Slip"
   ]
  },
  {
   "cell_type": "code",
   "execution_count": null,
   "id": "eb53c154-4863-47d9-9d73-0238d1500b0b",
   "metadata": {
    "tags": []
   },
   "outputs": [
    {
     "data": {
      "image/png": "[encoded data removed]",
      "text/plain": [
       "<Figure size 720x360 with 1 Axes>"
      ]
     },
     "metadata": {
      "needs_background": "light"
     },
     "output_type": "display_data"
    }
   ],
   "source": [
    "for slip in (\"No\", \"Free\"):\n",
    "\n",
    "    # Initialise the plot.\n",
    "    fig, ax = plt.subplots()\n",
    "\n",
    "    # Set up the initial frame by extracting the data from the .dat file and splitting it up.\n",
    "    data = loadtxt('DNS '+slip+' Slip/interfacesLiquid-0.00.dat')\n",
    "\n",
    "    datax = data[::2,0]*(H/X)\n",
    "    datah = data[::2,1]\n",
    "\n",
    "    # Plot each side of the drop and the centre of mass.\n",
    "    line3, = ax. plot(x, h_an(x,0), color='green', label=r'Asymptotics')\n",
    "    line2, = ax.plot(x, y_num2[0,:], color='blue', label=r'My Numerics')\n",
    "    line1, = ax.plot( datax, datah, color='black', label=r'DNS')\n",
    "\n",
    "    # Set up each frame to be plotted.\n",
    "    def animate(i):\n",
    "\n",
    "        # Find the right time for the file name. \n",
    "        j = str(np.round(i*0.01,2))    \n",
    "        while len(j)<4:\n",
    "            j = j+str(0)\n",
    "\n",
    "        # Extract the data from the .dat file and split into two arrays.\n",
    "        newdata = loadtxt('DNS '+slip+' Slip/interfacesLiquid-'+j+'.dat')\n",
    "\n",
    "        newdatax = newdata[::2,0]*(H/X)\n",
    "        newdatah = newdata[::2,1]\n",
    "\n",
    "        # Update the DNS.\n",
    "        line1.set_xdata(newdatax)\n",
    "        line1.set_ydata(newdatah)\n",
    "\n",
    "        # Find the time we are evaluating at to 4dp.\n",
    "        ti = np.round(i*0.01*(H/X),4)\n",
    "        t_index = int(np.round(ti/0.0001,0))\n",
    "\n",
    "        # Update the Numerics.\n",
    "        line2.set_xdata(x)\n",
    "        line2.set_ydata(y_num2[t_index,:])\n",
    "\n",
    "        # Update the Asymptotics.\n",
    "        line3.set_xdata(x)\n",
    "        line3.set_ydata(h_an(x,ti))\n",
    "\n",
    "        # Make sure the time is the right format for the title.\n",
    "        tj = str(ti)\n",
    "        while len(tj)<6:\n",
    "            tj = tj+str(0)\n",
    "\n",
    "        # Title giving the frame the time\n",
    "        ax.set_title(r\"t=s1\".replace('s1',tj))\n",
    "        return line3, line2, line1,\n",
    "\n",
    "\n",
    "    #Add details and set the figure shape/size.\n",
    "    fig.set_size_inches(10,5)\n",
    "    #ax.axis('equal')\n",
    "    ax.set_aspect('equal', adjustable='box')\n",
    "    ax.tick_params(axis='both', which='major')\n",
    "\n",
    "    ax.set_xlim(0,0.7)\n",
    "    ax.set_xlabel(r'$x$')\n",
    "\n",
    "    ax.set_ylim(1,1.25)\n",
    "    ax.set_ylabel(r'$h$')\n",
    "\n",
    "    ax.legend()\n",
    "\n",
    "    #Make the animation. Number of frames is to go to the final t value from DNS.\n",
    "    ani = animation.FuncAnimation(fig, animate, interval=2000, frames=161, blit=True, save_count=161)\n",
    "\n",
    "    #Save the figure as a gif. Low fps is used to slow it down.\n",
    "    writergif = animation.PillowWriter(fps=10)\n",
    "    ani.save('interface_shape_'+slip+'_Slip.gif',writer=writergif, dpi=250)\n",
    "\n",
    "    plt.show()"
   ]
  },
  {
   "cell_type": "markdown",
   "id": "d145d170-a4d5-4df9-9c17-d629fe105574",
   "metadata": {},
   "source": [
    "We also make an animation for the difference with the DNS data."
   ]
  },
  {
   "cell_type": "code",
   "execution_count": null,
   "id": "ce081500-09bc-45d1-a6fa-f16c99461ab4",
   "metadata": {},
   "outputs": [],
   "source": [
    "for slip in (\"No\", \"Free\"):\n",
    "\n",
    "    # Initialise the plot.\n",
    "    fig, ax = plt.subplots(figsize=(10,4))\n",
    "\n",
    "    # Set up the initial frame by extracting the data from the .dat file and splitting it up.\n",
    "    data = loadtxt('DNS '+slip+' Slip/interfacesLiquid-0.00.dat')\n",
    "\n",
    "    datax = data[::2,0]*(H/X)\n",
    "    datah = data[::2,1]\n",
    "\n",
    "    # Find the right index to compare the DNS with.\n",
    "    ee = x.reshape(1,-1)\n",
    "    ff = datax.reshape(-1,1)\n",
    "    diffs = np.abs(ee-ff)\n",
    "    args = diffs.argmin(axis=0)\n",
    "\n",
    "    # Plot setup.\n",
    "    line3, = ax.plot(x, datah[args]-h_an(x,0), color='green', label=r'DNS - Asymptotics')\n",
    "    line2, = ax.plot(x, datah[args]-y_num2[0,:], color='blue', label=r'DNS - My Numerics')\n",
    "\n",
    "    # Set up each frame to be plotted.\n",
    "    def animate(i):\n",
    "\n",
    "        # Find the right time for the file name. \n",
    "        j = str(np.round(i*0.01,2))    \n",
    "        while len(j)<4:\n",
    "            j = j+str(0)\n",
    "\n",
    "        # Extract the data from the .dat file and split into two arrays.\n",
    "        newdata = loadtxt('DNS '+slip+' Slip/interfacesLiquid-'+j+'.dat')\n",
    "\n",
    "        newdatax = newdata[::2,0]*(H/X)\n",
    "        newdatah = newdata[::2,1]\n",
    "\n",
    "        # Find the right index to compare the DNS with.\n",
    "        ff = newdatax.reshape(-1,1)\n",
    "        diffs = np.abs(ee-ff)\n",
    "        args = diffs.argmin(axis=0)\n",
    "\n",
    "        # Find the time we are evaluating at to 4dp.\n",
    "        ti = np.round(i*0.01*(H/X),4)\n",
    "        t_index = int(np.round(ti/0.0001,0))\n",
    "\n",
    "        # Update the Numerics.\n",
    "        line2.set_xdata(x)\n",
    "        line2.set_ydata(newdatah[args]-y_num2[t_index,:])\n",
    "\n",
    "        # Update the Asymptotics.\n",
    "        line3.set_xdata(x)\n",
    "        line3.set_ydata(newdatah[args]-h_an(x,ti))\n",
    "\n",
    "        # Make sure the time is the right format for the title.\n",
    "        tj = str(ti)\n",
    "        while len(tj)<6:\n",
    "            tj = tj+str(0)\n",
    "\n",
    "        # Title giving the frame the time\n",
    "        ax.set_title(r\"t=s1\".replace('s1',tj))\n",
    "        return line3, line2,\n",
    "\n",
    "\n",
    "    #Add details and set the figure shape/size.\n",
    "    #fig.set_size_inches(10,8)\n",
    "    #ax.axis('equal')\n",
    "    #ax.set_aspect('equal', adjustable='box')\n",
    "    ax.tick_params(axis='both', which='major')\n",
    "\n",
    "    ax.set_xlim(0,0.7)\n",
    "    ax.set_xlabel(r'$x$')\n",
    "\n",
    "    ax.set_ylim(-0.02,0.02)\n",
    "    ax.set_ylabel(r'$h$ difference')\n",
    "\n",
    "    ax.legend()\n",
    "    ax.grid()\n",
    "\n",
    "    #Make the animation. Number of frames is to go to the final t value from DNS.\n",
    "    ani = animation.FuncAnimation(fig, animate, interval=2000, frames=161, blit=True, save_count=161)\n",
    "\n",
    "    #Save the figure as a gif. Low fps is used to slow it down.\n",
    "    writergif = animation.PillowWriter(fps=10)\n",
    "    ani.save('interface_shape_'+slip+'_Slip_Differences.gif',writer=writergif, dpi=250)\n",
    "\n",
    "    plt.show()"
   ]
  }
 ],
 "metadata": {
  "kernelspec": {
   "display_name": "Python 3 (ipykernel)",
   "language": "python",
   "name": "python3"
  },
  "language_info": {
   "codemirror_mode": {
    "name": "ipython",
    "version": 3
   },
   "file_extension": ".py",
   "mimetype": "text/x-python",
   "name": "python",
   "nbconvert_exporter": "python",
   "pygments_lexer": "ipython3",
   "version": "3.8.5"
  }
 },
 "nbformat": 4,
 "nbformat_minor": 5
}
